{
 "cells": [
  {
   "cell_type": "code",
   "execution_count": 2,
   "metadata": {},
   "outputs": [],
   "source": [
    "import pickle\n",
    "import matplotlib.pyplot as plt\n",
    "from game import Game\n",
    "%matplotlib inline\n",
    "from matplotlib.animation import FuncAnimation\n",
    "import numpy as np\n",
    "import moviepy.editor as mp"
   ]
  },
  {
   "cell_type": "code",
   "execution_count": 3,
   "metadata": {},
   "outputs": [],
   "source": [
    "version = 'ohe_2_steps_move_penalty_log_reward_512_3_layers_random'"
   ]
  },
  {
   "cell_type": "code",
   "execution_count": 12,
   "metadata": {},
   "outputs": [],
   "source": [
    "with open('./data/best_game_history_%s.pkl' % version, 'rb') as f:\n",
    "    game_history = pickle.load(f)"
   ]
  },
  {
   "cell_type": "code",
   "execution_count": 13,
   "metadata": {},
   "outputs": [],
   "source": [
    "game = Game(4)\n",
    "game_history = game_history[1015:1025]"
   ]
  },
  {
   "cell_type": "code",
   "execution_count": 14,
   "metadata": {},
   "outputs": [],
   "source": [
    "def action_label(a):\n",
    "    a_dict = {-1: '-', 0: '^', 1: 'V', 2: '<', 3: '>'}\n",
    "    return a_dict[a]"
   ]
  },
  {
   "cell_type": "code",
   "execution_count": 15,
   "metadata": {},
   "outputs": [
    {
     "data": {
      "image/png": "[encoded data removed]",
      "text/plain": [
       "<Figure size 216x216 with 16 Axes>"
      ]
     },
     "metadata": {},
     "output_type": "display_data"
    }
   ],
   "source": [
    "cell_colors = {\n",
    "    0: '#FFFFFF',\n",
    "    2: '#EEE4DA',\n",
    "    4: '#ECE0C8',\n",
    "    8: '#ECB280',\n",
    "    16:'#EC8D53',\n",
    "    32:'#F57C5F',\n",
    "    64:'#E95937',\n",
    "    128:'#F3D96B',\n",
    "    256:'#F2D04A',\n",
    "    512:'#E5BF2E',\n",
    "    1024:'#E2B814',\n",
    "    2048:'#EBC502',\n",
    "    4096:'#00A2D8',\n",
    "    8192:'#9ED682',\n",
    "    16384:'#9ED682',\n",
    "    32768:'#9ED682',\n",
    "    65536:'#9ED682',\n",
    "    131072:'#9ED682',\n",
    "}\n",
    "\n",
    "board = game_history[0]['new_board']\n",
    "\n",
    "ncols = 4\n",
    "nrows = 4\n",
    "\n",
    "# create the plots\n",
    "fig = plt.figure(figsize=(3,3))\n",
    "# plt.suptitle('Best game')\n",
    "axes = [ fig.add_subplot(nrows, ncols, r * ncols + c) for r in range(0, nrows) for c in range(1, ncols+1) ]\n",
    "\n",
    "# add some data\n",
    "v = np.reshape(board, -1)\n",
    "for i, ax in enumerate(axes):\n",
    "    ax.text(0.5, 0.5, str(int(v[i])) if int(v[i]) > 0 else ' ', horizontalalignment='center', verticalalignment='center')\n",
    "    ax.set_facecolor(cell_colors[int(v[i])])\n",
    "\n",
    "# remove the x and y ticks\n",
    "for ax in axes:\n",
    "    ax.set_xticks([])\n",
    "    ax.set_yticks([])\n",
    "i = 0\n",
    "# if i < len(game_history) - 1:\n",
    "#     plt.suptitle('S: %d, Action: %s, Reward: %d' % (i, action_label(game_history[i+1]['action']), game_history[i+1]['reward']))\n",
    "# else:\n",
    "#     plt.suptitle('Final state')"
   ]
  },
  {
   "cell_type": "code",
   "execution_count": 16,
   "metadata": {},
   "outputs": [],
   "source": [
    "def update(i):\n",
    "#     plt.clf()\n",
    "    board = game_history[i]['new_board']\n",
    "    v = np.reshape(board, -1)\n",
    "    for i, ax in enumerate(axes):\n",
    "        ax.cla()\n",
    "        ax.text(0.5, 0.5, str(int(v[i])) if int(v[i]) > 0 else ' ', horizontalalignment='center', verticalalignment='center')\n",
    "        ax.set_facecolor(cell_colors[int(v[i])])\n",
    "        \n",
    "    for ax in axes:\n",
    "        ax.set_xticks([])\n",
    "        ax.set_yticks([])\n",
    "\n",
    "    return axes"
   ]
  },
  {
   "cell_type": "code",
   "execution_count": 17,
   "metadata": {},
   "outputs": [],
   "source": [
    "anim = FuncAnimation(fig, update, frames=np.arange(1, len(game_history)), interval=1000)"
   ]
  },
  {
   "cell_type": "code",
   "execution_count": 18,
   "metadata": {},
   "outputs": [
    {
     "name": "stderr",
     "output_type": "stream",
     "text": [
      "MovieWriter imagemagick unavailable; trying to use <class 'matplotlib.animation.PillowWriter'> instead.\n"
     ]
    }
   ],
   "source": [
    "anim.save('./anim/%s_short.gif' % version, dpi=160, writer='imagemagick')"
   ]
  },
  {
   "cell_type": "code",
   "execution_count": 17,
   "metadata": {},
   "outputs": [
    {
     "name": "stdout",
     "output_type": "stream",
     "text": [
      "Moviepy - Building video ./anim/ohe_2_steps_move_penalty_log_reward_512_3_layers_random_full.mp4.\n",
      "Moviepy - Writing video ./anim/ohe_2_steps_move_penalty_log_reward_512_3_layers_random_full.mp4\n",
      "\n"
     ]
    },
    {
     "name": "stderr",
     "output_type": "stream",
     "text": [
      "                                                                                                                       \r"
     ]
    },
    {
     "name": "stdout",
     "output_type": "stream",
     "text": [
      "Moviepy - Done !\n",
      "Moviepy - video ready ./anim/ohe_2_steps_move_penalty_log_reward_512_3_layers_random_full.mp4\n"
     ]
    }
   ],
   "source": [
    "clip = mp.VideoFileClip(\"./anim/%s_short.gif\" % version)\n",
    "clip.write_videofile(\"./anim/%s_full.mp4\" % version)"
   ]
  },
  {
   "cell_type": "code",
   "execution_count": 6,
   "metadata": {},
   "outputs": [
    {
     "name": "stdout",
     "output_type": "stream",
     "text": [
      "1024\n"
     ]
    }
   ],
   "source": [
    "for i, g in enumerate(game_history):\n",
    "    if np.max(g['new_board']) == 2048.:\n",
    "        print(i)\n",
    "        break"
   ]
  },
  {
   "cell_type": "code",
   "execution_count": 11,
   "metadata": {},
   "outputs": [],
   "source": [
    "game_history = game_history[1015:1025]"
   ]
  },
  {
   "cell_type": "code",
   "execution_count": null,
   "metadata": {},
   "outputs": [],
   "source": []
  }
 ],
 "metadata": {
  "kernelspec": {
   "display_name": "drlnd",
   "language": "python",
   "name": "drlnd"
  },
  "language_info": {
   "codemirror_mode": {
    "name": "ipython",
    "version": 3
   },
   "file_extension": ".py",
   "mimetype": "text/x-python",
   "name": "python",
   "nbconvert_exporter": "python",
   "pygments_lexer": "ipython3",
   "version": "3.6.9"
  }
 },
 "nbformat": 4,
 "nbformat_minor": 2
}
